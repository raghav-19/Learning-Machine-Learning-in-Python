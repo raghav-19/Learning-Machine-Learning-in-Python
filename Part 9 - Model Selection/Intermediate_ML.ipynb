{
  "nbformat": 4,
  "nbformat_minor": 0,
  "metadata": {
    "colab": {
      "name": "Intermediate_ML.ipynb",
      "provenance": [],
      "collapsed_sections": [
        "qay6SNsrO4Pm",
        "0DGD7JGlKfVr",
        "vTi5LlFrKqbl",
        "POK2McGTfV-L",
        "PTBljGgXG8CP",
        "ENTDF4DcLFms"
      ]
    },
    "kernelspec": {
      "name": "python3",
      "display_name": "Python 3"
    }
  },
  "cells": [
    {
      "cell_type": "markdown",
      "metadata": {
        "id": "gISHZc6RKvmD"
      },
      "source": [
        "##Setup from Intro to ML Course"
      ]
    },
    {
      "cell_type": "code",
      "metadata": {
        "id": "W1gnTg7hGz7c"
      },
      "source": [
        "import pandas as pd;\n",
        "import numpy as np;\n",
        "import warnings; warnings.simplefilter('ignore');\n",
        "from sklearn.model_selection import train_test_split;\n",
        "X_full=pd.read_csv(\"/content/drive/My Drive/Dataset/train.csv\",index_col='Id');\n",
        "X_test=pd.read_csv(\"/content/drive/My Drive/Dataset/test.csv\" ,index_col='Id');"
      ],
      "execution_count": null,
      "outputs": []
    },
    {
      "cell_type": "code",
      "metadata": {
        "id": "VVF0IsxnLbWq"
      },
      "source": [
        "#Seperating dependent variable from dataset\n",
        "X_full.dropna(axis=0,subset=['SalePrice'],inplace=True);\n",
        "y=X_full['SalePrice'];\n",
        "X_full.drop(axis=1,columns=['SalePrice'],inplace=True);"
      ],
      "execution_count": null,
      "outputs": []
    },
    {
      "cell_type": "code",
      "metadata": {
        "id": "dkSXGBzxQFHL"
      },
      "source": [
        "#Creating function to get mean absolute error for dataset\n",
        "from sklearn.ensemble import RandomForestRegressor;\n",
        "from sklearn.metrics  import mean_absolute_error;\n",
        "def score_dataset(x_train,x_valid,y_train,y_valid):\n",
        "  model=RandomForestRegressor(n_estimators=100,random_state=0);\n",
        "  model.fit(x_train,y_train);\n",
        "  y_pred=model.predict(x_valid);\n",
        "  return mean_absolute_error(y_pred,y_valid);"
      ],
      "execution_count": null,
      "outputs": []
    },
    {
      "cell_type": "code",
      "metadata": {
        "id": "VVdwVb8ifiPA"
      },
      "source": [
        "#Creating function to get cross fold validation scores\n",
        "from sklearn.model_selection import cross_val_score;\n",
        "from sklearn.linear_model import LinearRegression;\n",
        "def k_fold_validation(X,y):\n",
        "  my_model=RandomForestRegressor(n_estimators=100);\n",
        "  scores=-1*cross_val_score(estimator=my_model,X=X,y=y,cv=10,scoring='neg_mean_absolute_error');\n",
        "  return (scores.mean(),scores.std());"
      ],
      "execution_count": null,
      "outputs": []
    },
    {
      "cell_type": "markdown",
      "metadata": {
        "id": "qay6SNsrO4Pm"
      },
      "source": [
        "##Handling Missing Value"
      ]
    },
    {
      "cell_type": "code",
      "metadata": {
        "id": "mDS-DMHeM-A0"
      },
      "source": [
        "# for sake of simplicity removing categorical column\n",
        "train=X_full.select_dtypes(exclude=['object']);\n",
        "test =X_test.select_dtypes(exclude=['object']);\n",
        "x_train,x_valid,y_train,y_valid=train_test_split(train,y,test_size=0.2,random_state=0);"
      ],
      "execution_count": null,
      "outputs": []
    },
    {
      "cell_type": "markdown",
      "metadata": {
        "id": "0DGD7JGlKfVr"
      },
      "source": [
        "###Dropping Column with missing value"
      ]
    },
    {
      "cell_type": "code",
      "metadata": {
        "id": "wex3lpPYOt9k",
        "colab": {
          "base_uri": "https://localhost:8080/",
          "height": 34
        },
        "outputId": "9d86fb99-787d-4948-a404-546736ce9a27"
      },
      "source": [
        "missing_col=[col for col in x_train.columns if x_train[col].isnull().any()]\n",
        "reduced_train=x_train.drop(axis=1,columns=missing_col);\n",
        "reduced_valid=x_valid.drop(axis=1,columns=missing_col);\n",
        "print(score_dataset(reduced_train,reduced_valid,y_train,y_valid));"
      ],
      "execution_count": null,
      "outputs": [
        {
          "output_type": "stream",
          "text": [
            "17837.82570776256\n"
          ],
          "name": "stdout"
        }
      ]
    },
    {
      "cell_type": "markdown",
      "metadata": {
        "id": "vTi5LlFrKqbl"
      },
      "source": [
        "###Imputation"
      ]
    },
    {
      "cell_type": "code",
      "metadata": {
        "id": "i40aCt86UKqm",
        "colab": {
          "base_uri": "https://localhost:8080/",
          "height": 34
        },
        "outputId": "349ae834-269a-4646-c3fe-09541dc9e4dc"
      },
      "source": [
        "from sklearn.impute import SimpleImputer;\n",
        "imputer=SimpleImputer();\n",
        "imputed_train=x_train;\n",
        "imputed_train.loc[:,missing_col]=imputer.fit_transform(imputed_train.loc[:,missing_col]);\n",
        "imputed_valid=x_valid;\n",
        "imputed_valid.loc[:,missing_col]=imputer.transform(imputed_valid.loc[:,missing_col]);\n",
        "print(score_dataset(imputed_train,imputed_valid,y_train,y_valid));"
      ],
      "execution_count": null,
      "outputs": [
        {
          "output_type": "stream",
          "text": [
            "18062.894611872147\n"
          ],
          "name": "stdout"
        }
      ]
    },
    {
      "cell_type": "markdown",
      "metadata": {
        "id": "POK2McGTfV-L"
      },
      "source": [
        "##Handling Categorical Variables"
      ]
    },
    {
      "cell_type": "code",
      "metadata": {
        "id": "5GxeJKHXfdJ2"
      },
      "source": [
        "#for sake of simplicity, removing column with missing value\n",
        "missing_col=[col for col in X_full if X_full[col].isnull().any()];\n",
        "train=X_full.drop(axis=1,columns=missing_col);\n",
        "test =X_test.drop(axis=1,columns=missing_col);\n",
        "x_train,x_valid,y_train,y_valid=train_test_split(train,y,test_size=0.2,random_state=0);"
      ],
      "execution_count": null,
      "outputs": []
    },
    {
      "cell_type": "markdown",
      "metadata": {
        "id": "PTBljGgXG8CP"
      },
      "source": [
        "###Label Encoding"
      ]
    },
    {
      "cell_type": "code",
      "metadata": {
        "id": "wFzboW9_FQ0_"
      },
      "source": [
        "#We can't use label encoding on every column, may be valid data have some new variable that is not present in train data for example, next 2 lines\n",
        "#print(x_train.Condition2.unique());\n",
        "#print(x_valid.Condition2.unique());\n",
        "object_cols=[col for col in x_train if x_train[col].dtype=='object'];\n",
        "good_label_cols=[col for col in x_train if (set(x_valid[col])).issubset(set(x_train[col]))];\n",
        "bad_label_cols =list(set(object_cols)-set(good_label_cols));"
      ],
      "execution_count": null,
      "outputs": []
    },
    {
      "cell_type": "code",
      "metadata": {
        "id": "gT1eQLYKI_ht",
        "colab": {
          "base_uri": "https://localhost:8080/",
          "height": 51
        },
        "outputId": "18790495-354a-4fca-fb27-bc0d4d643cab"
      },
      "source": [
        "from sklearn.preprocessing import LabelEncoder;\n",
        "label_train=x_train.drop(axis=1,columns=bad_label_cols);\n",
        "label_valid=x_valid.drop(axis=1,columns=bad_label_cols);\n",
        "lb_encoder=LabelEncoder();\n",
        "for col in good_label_cols:\n",
        "  label_train[col]=lb_encoder.fit_transform(label_train[col]);\n",
        "  label_valid[col]=lb_encoder.transform(label_valid[col]);\n",
        "print(score_dataset(label_train,label_valid,y_train,y_valid));\n",
        "print(k_fold_validation(pd.concat([label_train,label_valid]),pd.concat([y_train,y_valid])));"
      ],
      "execution_count": null,
      "outputs": [
        {
          "output_type": "stream",
          "text": [
            "17096.280194063926\n",
            "(17453.72759784736, 1824.794892428798)\n"
          ],
          "name": "stdout"
        }
      ]
    },
    {
      "cell_type": "code",
      "metadata": {
        "id": "EcMEub8BekPJ",
        "colab": {
          "base_uri": "https://localhost:8080/",
          "height": 51
        },
        "outputId": "e79dabb9-6769-4aaf-e8b4-e75bc3dfc6e2"
      },
      "source": [
        "from sklearn.preprocessing import OneHotEncoder;\n",
        "ht_encoder=OneHotEncoder(handle_unknown='ignore',sparse=False);\n",
        "hot_x_train=x_train.drop(axis=1,columns=bad_label_cols);\n",
        "hot_x_valid=x_valid.drop(axis=1,columns=bad_label_cols);\n",
        "hot_train_cols=pd.DataFrame(ht_encoder.fit_transform(hot_x_train[good_label_cols]));\n",
        "hot_valid_cols=pd.DataFrame(ht_encoder.transform(hot_x_valid[good_label_cols]));\n",
        "hot_train_cols.index=hot_x_train.index;\n",
        "hot_valid_cols.index=hot_x_valid.index;\n",
        "num_x_train=x_train.drop(axis=1,columns=object_cols);\n",
        "num_x_valid=x_valid.drop(axis=1,columns=object_cols);\n",
        "hot_x_train=pd.concat([hot_train_cols,num_x_train],axis=1);\n",
        "hot_x_valid=pd.concat([hot_valid_cols,num_x_valid],axis=1);\n",
        "print(score_dataset(hot_x_train,hot_x_valid,y_train,y_valid))\n",
        "print(k_fold_validation(pd.concat([hot_x_train,hot_x_valid]),pd.concat([y_train,y_valid])));"
      ],
      "execution_count": null,
      "outputs": [
        {
          "output_type": "stream",
          "text": [
            "7658923.376712329\n",
            "(785917421.3218677, 1611505556.8068984)\n"
          ],
          "name": "stdout"
        }
      ]
    },
    {
      "cell_type": "markdown",
      "metadata": {
        "id": "ENTDF4DcLFms"
      },
      "source": [
        "###One Hot Encoding"
      ]
    },
    {
      "cell_type": "code",
      "metadata": {
        "id": "6AHhxUuPLfDC"
      },
      "source": [
        "#Investing Cardinality\n",
        "object_nunique=list(map(lambda col : x_train[col].nunique(),object_cols))\n",
        "d=dict(zip(object_cols,object_nunique));\n",
        "low_cardinal_cols=[col for col in object_cols if x_train[col].nunique()<10];\n",
        "high_cardinal_cols=list(set(object_cols)-set(low_cardinal_cols));"
      ],
      "execution_count": null,
      "outputs": []
    },
    {
      "cell_type": "code",
      "metadata": {
        "id": "h1aUFliVODiv",
        "colab": {
          "base_uri": "https://localhost:8080/",
          "height": 34
        },
        "outputId": "daed428c-7e3f-46f0-857c-d0099f2c3f1f"
      },
      "source": [
        "from sklearn.preprocessing import OneHotEncoder;\n",
        "ht_encoder=OneHotEncoder(handle_unknown='ignore',sparse=False);\n",
        "hot_x_train=x_train.drop(axis=1,columns=high_cardinal_cols);\n",
        "hot_x_valid=x_valid.drop(axis=1,columns=high_cardinal_cols);\n",
        "hot_train_cols=pd.DataFrame(ht_encoder.fit_transform(hot_x_train[low_cardinal_cols]));\n",
        "hot_valid_cols=pd.DataFrame(ht_encoder.transform(hot_x_valid[low_cardinal_cols]));\n",
        "hot_train_cols.index=hot_x_train.index;\n",
        "hot_valid_cols.index=hot_x_valid.index;\n",
        "num_x_train=x_train.drop(axis=1,columns=object_cols);\n",
        "num_x_valid=x_valid.drop(axis=1,columns=object_cols);\n",
        "hot_x_train=pd.concat([hot_train_cols,num_x_train],axis=1);\n",
        "hot_x_valid=pd.concat([hot_valid_cols,num_x_valid],axis=1);\n",
        "print(score_dataset(hot_x_train,hot_x_valid,y_train,y_valid))"
      ],
      "execution_count": null,
      "outputs": [
        {
          "output_type": "stream",
          "text": [
            "17537.55444063927\n"
          ],
          "name": "stdout"
        }
      ]
    },
    {
      "cell_type": "markdown",
      "metadata": {
        "id": "2qHWdvNaX4iL"
      },
      "source": [
        "##Pipelines"
      ]
    },
    {
      "cell_type": "code",
      "metadata": {
        "id": "kKF3C1oJX8tm"
      },
      "source": [
        "#Keeping seperate list of numerical_col, categorical_col\n",
        "num_cols=[col for col in X_full.columns if X_full[col].dtype in ['int64','float64']];\n",
        "cat_cols=[col for col in X_full.columns if X_full[col].nunique()<10 and X_full[col].dtype=='object'];\n",
        "my_cols=num_cols+cat_cols;\n",
        "train=X_full[my_cols].copy();\n",
        "test =X_test[my_cols].copy();\n",
        "x_train,x_valid,y_train,y_valid=train_test_split(train,y,test_size=0.2,random_state=0);"
      ],
      "execution_count": null,
      "outputs": []
    },
    {
      "cell_type": "code",
      "metadata": {
        "id": "QEpPfprnbZfX",
        "colab": {
          "base_uri": "https://localhost:8080/",
          "height": 34
        },
        "outputId": "4e07ffe3-d09b-4907-b0a9-a2293877bb2b"
      },
      "source": [
        "from sklearn.compose import ColumnTransformer;\n",
        "from sklearn.impute import SimpleImputer;\n",
        "from sklearn.preprocessing import OneHotEncoder;\n",
        "from sklearn.pipeline import Pipeline;\n",
        "from sklearn.ensemble import RandomForestRegressor;\n",
        "from sklearn.metrics import mean_absolute_error;\n",
        "num_transformer=SimpleImputer(strategy='mean');\n",
        "cat_transformer=Pipeline(steps=[\n",
        "                                ('imputer',SimpleImputer(strategy='most_frequent')),\n",
        "                                ('encoder',OneHotEncoder(sparse=False,handle_unknown='ignore'))]);\n",
        "precomputer=ColumnTransformer(transformers=[\n",
        "                                            ('num',num_transformer,num_cols),\n",
        "                                            ('cat',cat_transformer,cat_cols)]);\n",
        "complete_model=Pipeline(steps=[\n",
        "                               ('preprocessor',precomputer),\n",
        "                               ('model',RandomForestRegressor(n_estimators=100,random_state=0))]);\n",
        "complete_model.fit(x_train,y_train);\n",
        "y_pred=complete_model.predict(x_valid);\n",
        "print(mean_absolute_error(y_pred,y_valid));"
      ],
      "execution_count": null,
      "outputs": [
        {
          "output_type": "stream",
          "text": [
            "17648.417157534244\n"
          ],
          "name": "stdout"
        }
      ]
    }
  ]
}
